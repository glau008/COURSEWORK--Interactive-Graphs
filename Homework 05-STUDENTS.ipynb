{
 "cells": [
  {
   "cell_type": "markdown",
   "metadata": {},
   "source": [
    "<p style=\"text-align: center;\"> <span style=\"color:firebrick\"> <font size=\"5\"> <b> USC Marshall School of Business </b> </font> </p> </span> \n",
    "\n",
    "<p style=\"text-align: center;\"> <b> <font font size=\"5\"> DSO 545- Homework 5 </p> </b></font>\n",
    "\n",
    "<p style=\"text-align: center;\"> <b> Fall 2020 </b> </p>\n"
   ]
  },
  {
   "cell_type": "markdown",
   "metadata": {
    "heading_collapsed": true
   },
   "source": [
    "## <span style=\"color:blue\">  Gordon Lau </span>"
   ]
  },
  {
   "cell_type": "markdown",
   "metadata": {},
   "source": [
    "## <span style=\"color:firebrick\">  Assignment Learning Objectives </span>\n",
    "\n"
   ]
  },
  {
   "cell_type": "markdown",
   "metadata": {},
   "source": [
    "- Customize seaborn plots in Python\n",
    "- Deal with date variables in Python\n",
    "- Wrangle data in Python"
   ]
  },
  {
   "cell_type": "markdown",
   "metadata": {},
   "source": [
    "## <span style=\"color:firebrick\"> Dataset </span>"
   ]
  },
  {
   "cell_type": "markdown",
   "metadata": {},
   "source": [
    "The dataset consists of 3 variables:\n",
    "    \n",
    "|**Variables**    |**Explanation**|\n",
    "|:-----------------|:--------------|\n",
    "|`date`| date of the poll\n",
    "|`approval`| President's Trump approval rating\n",
    "|`disapproval`| President's Trump disapproval rating\n",
    "\n"
   ]
  },
  {
   "cell_type": "code",
   "execution_count": 2,
   "metadata": {},
   "outputs": [],
   "source": [
    "import numpy as np\n",
    "import pandas as pd\n",
    "import matplotlib.pyplot as plt\n",
    "import seaborn as sns\n",
    "\n",
    "trump = pd.read_csv('TrumpRatings.csv', parse_dates = ['date'])"
   ]
  },
  {
   "cell_type": "code",
   "execution_count": 24,
   "metadata": {},
   "outputs": [
    {
     "data": {
      "text/html": [
       "<div>\n",
       "<style scoped>\n",
       "    .dataframe tbody tr th:only-of-type {\n",
       "        vertical-align: middle;\n",
       "    }\n",
       "\n",
       "    .dataframe tbody tr th {\n",
       "        vertical-align: top;\n",
       "    }\n",
       "\n",
       "    .dataframe thead th {\n",
       "        text-align: right;\n",
       "    }\n",
       "</style>\n",
       "<table border=\"1\" class=\"dataframe\">\n",
       "  <thead>\n",
       "    <tr style=\"text-align: right;\">\n",
       "      <th></th>\n",
       "      <th>date</th>\n",
       "      <th>approve</th>\n",
       "      <th>disapprove</th>\n",
       "    </tr>\n",
       "  </thead>\n",
       "  <tbody>\n",
       "    <tr>\n",
       "      <td>0</td>\n",
       "      <td>2017-01-22</td>\n",
       "      <td>45.00</td>\n",
       "      <td>45.000000</td>\n",
       "    </tr>\n",
       "    <tr>\n",
       "      <td>1</td>\n",
       "      <td>2017-01-23</td>\n",
       "      <td>45.00</td>\n",
       "      <td>46.000000</td>\n",
       "    </tr>\n",
       "    <tr>\n",
       "      <td>2</td>\n",
       "      <td>2017-01-24</td>\n",
       "      <td>44.05</td>\n",
       "      <td>45.100000</td>\n",
       "    </tr>\n",
       "    <tr>\n",
       "      <td>3</td>\n",
       "      <td>2017-01-25</td>\n",
       "      <td>43.10</td>\n",
       "      <td>41.933333</td>\n",
       "    </tr>\n",
       "    <tr>\n",
       "      <td>4</td>\n",
       "      <td>2017-01-26</td>\n",
       "      <td>43.80</td>\n",
       "      <td>47.200000</td>\n",
       "    </tr>\n",
       "  </tbody>\n",
       "</table>\n",
       "</div>"
      ],
      "text/plain": [
       "        date  approve  disapprove\n",
       "0 2017-01-22    45.00   45.000000\n",
       "1 2017-01-23    45.00   46.000000\n",
       "2 2017-01-24    44.05   45.100000\n",
       "3 2017-01-25    43.10   41.933333\n",
       "4 2017-01-26    43.80   47.200000"
      ]
     },
     "execution_count": 24,
     "metadata": {},
     "output_type": "execute_result"
    }
   ],
   "source": [
    "trump.head()"
   ]
  },
  {
   "cell_type": "code",
   "execution_count": 25,
   "metadata": {},
   "outputs": [
    {
     "data": {
      "text/html": [
       "<div>\n",
       "<style scoped>\n",
       "    .dataframe tbody tr th:only-of-type {\n",
       "        vertical-align: middle;\n",
       "    }\n",
       "\n",
       "    .dataframe tbody tr th {\n",
       "        vertical-align: top;\n",
       "    }\n",
       "\n",
       "    .dataframe thead th {\n",
       "        text-align: right;\n",
       "    }\n",
       "</style>\n",
       "<table border=\"1\" class=\"dataframe\">\n",
       "  <thead>\n",
       "    <tr style=\"text-align: right;\">\n",
       "      <th></th>\n",
       "      <th>date</th>\n",
       "      <th>approve</th>\n",
       "      <th>disapprove</th>\n",
       "      <th>diff</th>\n",
       "      <th>month</th>\n",
       "      <th>year</th>\n",
       "      <th>date2</th>\n",
       "    </tr>\n",
       "  </thead>\n",
       "  <tbody>\n",
       "    <tr>\n",
       "      <td>0</td>\n",
       "      <td>2017-01-22</td>\n",
       "      <td>45.00</td>\n",
       "      <td>45.000000</td>\n",
       "      <td>0.000000</td>\n",
       "      <td>1</td>\n",
       "      <td>2017</td>\n",
       "      <td>2017-01-22</td>\n",
       "    </tr>\n",
       "    <tr>\n",
       "      <td>1</td>\n",
       "      <td>2017-01-23</td>\n",
       "      <td>45.00</td>\n",
       "      <td>46.000000</td>\n",
       "      <td>1.000000</td>\n",
       "      <td>1</td>\n",
       "      <td>2017</td>\n",
       "      <td>2017-01-23</td>\n",
       "    </tr>\n",
       "    <tr>\n",
       "      <td>2</td>\n",
       "      <td>2017-01-24</td>\n",
       "      <td>44.05</td>\n",
       "      <td>45.100000</td>\n",
       "      <td>1.050000</td>\n",
       "      <td>1</td>\n",
       "      <td>2017</td>\n",
       "      <td>2017-01-24</td>\n",
       "    </tr>\n",
       "    <tr>\n",
       "      <td>3</td>\n",
       "      <td>2017-01-25</td>\n",
       "      <td>43.10</td>\n",
       "      <td>41.933333</td>\n",
       "      <td>-1.166667</td>\n",
       "      <td>1</td>\n",
       "      <td>2017</td>\n",
       "      <td>2017-01-25</td>\n",
       "    </tr>\n",
       "    <tr>\n",
       "      <td>4</td>\n",
       "      <td>2017-01-26</td>\n",
       "      <td>43.80</td>\n",
       "      <td>47.200000</td>\n",
       "      <td>3.400000</td>\n",
       "      <td>1</td>\n",
       "      <td>2017</td>\n",
       "      <td>2017-01-26</td>\n",
       "    </tr>\n",
       "  </tbody>\n",
       "</table>\n",
       "</div>"
      ],
      "text/plain": [
       "        date  approve  disapprove      diff  month  year      date2\n",
       "0 2017-01-22    45.00   45.000000  0.000000      1  2017 2017-01-22\n",
       "1 2017-01-23    45.00   46.000000  1.000000      1  2017 2017-01-23\n",
       "2 2017-01-24    44.05   45.100000  1.050000      1  2017 2017-01-24\n",
       "3 2017-01-25    43.10   41.933333 -1.166667      1  2017 2017-01-25\n",
       "4 2017-01-26    43.80   47.200000  3.400000      1  2017 2017-01-26"
      ]
     },
     "execution_count": 25,
     "metadata": {},
     "output_type": "execute_result"
    }
   ],
   "source": [
    "trump['date2'] = pd.to_datetime(trump['date'])\n",
    "trump.head()"
   ]
  },
  {
   "cell_type": "markdown",
   "metadata": {},
   "source": [
    "## <span style=\"color:firebrick\"> Questions </span>\n"
   ]
  },
  {
   "cell_type": "markdown",
   "metadata": {},
   "source": [
    "#### 1. Create an EXACT copy of the following graph that shows  Persident's Trump daily approval ratings.\n",
    "\n",
    "- Each of the red horizontal lines represent the annual average approval ratings in 2017, 2018, 2019, and 2020 respectively\n",
    "- The line chart is grey in color with alpha = 0.3\n",
    "- The figure size is 10 x 5\n",
    "\n"
   ]
  },
  {
   "cell_type": "code",
   "execution_count": 50,
   "metadata": {},
   "outputs": [
    {
     "data": {
      "text/plain": [
       "<Figure size 720x360 with 0 Axes>"
      ]
     },
     "execution_count": 50,
     "metadata": {},
     "output_type": "execute_result"
    },
    {
     "data": {
      "image/png": "[encoded data removed]",
      "text/plain": [
       "<Figure size 432x288 with 1 Axes>"
      ]
     },
     "metadata": {
      "needs_background": "light"
     },
     "output_type": "display_data"
    },
    {
     "data": {
      "text/plain": [
       "<Figure size 720x360 with 0 Axes>"
      ]
     },
     "metadata": {},
     "output_type": "display_data"
    }
   ],
   "source": [
    "graph= sns.lineplot(x=trump['date'], y=trump['approve'],color = 'grey',alpha = 0.3)\n",
    "\n",
    "#Add Title\n",
    "plt.title('President Trumps Approval Rating', fontweight = 'bold',color='green', pad = 10)\n",
    "\n",
    "#Add % to y label\n",
    "ytickpositions = []\n",
    "for i in range(34,50,2):\n",
    "    ytickpositions.append(i)\n",
    "\n",
    "yticklabels = []\n",
    "for i in range(34,50,2):\n",
    "    yticklabels.append(f'{i}'+'%')\n",
    "    \n",
    "plt.yticks(ytickpositions,yticklabels)\n",
    "\n",
    "\n",
    "#Red Horizontal Lines\n",
    "for i in range(0,len(avg_per_year)):\n",
    "    graph.hlines(y=avg_per_year.iloc[i,1], xmin=minmax.iloc[i,0],xmax = minmax.iloc[i,1],color = 'red')\n",
    "\n",
    "#Remove Spines\n",
    "plt.gca().spines['top'].set_visible(False)\n",
    "plt.gca().spines['right'].set_visible(False)\n",
    "\n",
    "plt.figure(figsize = (10,5))"
   ]
  },
  {
   "cell_type": "code",
   "execution_count": 47,
   "metadata": {},
   "outputs": [
    {
     "data": {
      "text/html": [
       "<div>\n",
       "<style scoped>\n",
       "    .dataframe tbody tr th:only-of-type {\n",
       "        vertical-align: middle;\n",
       "    }\n",
       "\n",
       "    .dataframe tbody tr th {\n",
       "        vertical-align: top;\n",
       "    }\n",
       "\n",
       "    .dataframe thead th {\n",
       "        text-align: right;\n",
       "    }\n",
       "</style>\n",
       "<table border=\"1\" class=\"dataframe\">\n",
       "  <thead>\n",
       "    <tr style=\"text-align: right;\">\n",
       "      <th></th>\n",
       "      <th>min</th>\n",
       "      <th>max</th>\n",
       "    </tr>\n",
       "    <tr>\n",
       "      <th>date</th>\n",
       "      <th></th>\n",
       "      <th></th>\n",
       "    </tr>\n",
       "  </thead>\n",
       "  <tbody>\n",
       "    <tr>\n",
       "      <td>2017</td>\n",
       "      <td>2017-01-22</td>\n",
       "      <td>2017-12-31</td>\n",
       "    </tr>\n",
       "    <tr>\n",
       "      <td>2018</td>\n",
       "      <td>2018-01-01</td>\n",
       "      <td>2018-12-31</td>\n",
       "    </tr>\n",
       "    <tr>\n",
       "      <td>2019</td>\n",
       "      <td>2019-01-01</td>\n",
       "      <td>2019-12-31</td>\n",
       "    </tr>\n",
       "    <tr>\n",
       "      <td>2020</td>\n",
       "      <td>2020-01-01</td>\n",
       "      <td>2020-09-22</td>\n",
       "    </tr>\n",
       "  </tbody>\n",
       "</table>\n",
       "</div>"
      ],
      "text/plain": [
       "            min        max\n",
       "date                      \n",
       "2017 2017-01-22 2017-12-31\n",
       "2018 2018-01-01 2018-12-31\n",
       "2019 2019-01-01 2019-12-31\n",
       "2020 2020-01-01 2020-09-22"
      ]
     },
     "execution_count": 47,
     "metadata": {},
     "output_type": "execute_result"
    }
   ],
   "source": [
    "trump['year'] = trump['date'].dt.year\n",
    "\n",
    "avg_per_year = trump.groupby('year').agg({'approve':'mean'}).reset_index()\n",
    "\n",
    "minmax = trump['date'].groupby(trump['date'].dt.year).agg(['min','max'])\n",
    "minmax"
   ]
  },
  {
   "cell_type": "markdown",
   "metadata": {},
   "source": [
    "#### 2. Create an EXACT copy of the following graph that shows the average monthy difference between Persident's Trump approval and disapproval ratings (Disapproval% - Approval%) since he took office in 2017.\n",
    "\n",
    "- The span area is green colored with alpha = 0.3\n",
    "- The 2017, 2018, and 2019 lines are grey with alpha = 0.3\n",
    "- The 2020 line is red\n",
    "- The annotation text fontsize for the years is 10\n",
    "- The figure size is 10 x 5\n",
    "\n"
   ]
  },
  {
   "cell_type": "code",
   "execution_count": 3,
   "metadata": {},
   "outputs": [
    {
     "data": {
      "text/html": [
       "<div>\n",
       "<style scoped>\n",
       "    .dataframe tbody tr th:only-of-type {\n",
       "        vertical-align: middle;\n",
       "    }\n",
       "\n",
       "    .dataframe tbody tr th {\n",
       "        vertical-align: top;\n",
       "    }\n",
       "\n",
       "    .dataframe thead th {\n",
       "        text-align: right;\n",
       "    }\n",
       "</style>\n",
       "<table border=\"1\" class=\"dataframe\">\n",
       "  <thead>\n",
       "    <tr style=\"text-align: right;\">\n",
       "      <th></th>\n",
       "      <th>date</th>\n",
       "      <th>approve</th>\n",
       "      <th>disapprove</th>\n",
       "    </tr>\n",
       "  </thead>\n",
       "  <tbody>\n",
       "    <tr>\n",
       "      <td>0</td>\n",
       "      <td>2017-01-22</td>\n",
       "      <td>45.00</td>\n",
       "      <td>45.000000</td>\n",
       "    </tr>\n",
       "    <tr>\n",
       "      <td>1</td>\n",
       "      <td>2017-01-23</td>\n",
       "      <td>45.00</td>\n",
       "      <td>46.000000</td>\n",
       "    </tr>\n",
       "    <tr>\n",
       "      <td>2</td>\n",
       "      <td>2017-01-24</td>\n",
       "      <td>44.05</td>\n",
       "      <td>45.100000</td>\n",
       "    </tr>\n",
       "    <tr>\n",
       "      <td>3</td>\n",
       "      <td>2017-01-25</td>\n",
       "      <td>43.10</td>\n",
       "      <td>41.933333</td>\n",
       "    </tr>\n",
       "    <tr>\n",
       "      <td>4</td>\n",
       "      <td>2017-01-26</td>\n",
       "      <td>43.80</td>\n",
       "      <td>47.200000</td>\n",
       "    </tr>\n",
       "  </tbody>\n",
       "</table>\n",
       "</div>"
      ],
      "text/plain": [
       "        date  approve  disapprove\n",
       "0 2017-01-22    45.00   45.000000\n",
       "1 2017-01-23    45.00   46.000000\n",
       "2 2017-01-24    44.05   45.100000\n",
       "3 2017-01-25    43.10   41.933333\n",
       "4 2017-01-26    43.80   47.200000"
      ]
     },
     "execution_count": 3,
     "metadata": {},
     "output_type": "execute_result"
    }
   ],
   "source": [
    "trump.head()"
   ]
  },
  {
   "cell_type": "code",
   "execution_count": 136,
   "metadata": {},
   "outputs": [],
   "source": [
    "trump2 = trump\n",
    "trump2['diff'] = trump2['disapprove'] - trump2['approve']\n",
    "trump2['month'] = trump2['date'].dt.month\n",
    "trump2['year'] = trump2['date'].dt.year\n",
    "\n",
    "ratingsdiff = trump2.groupby(['year','month']).agg({'diff':'mean'}).reset_index()\n",
    "year2017 = trump2.loc[trump['year']==2017].groupby('month').agg({'diff':'mean'})\n",
    "year2018 = trump2.loc[trump['year']==2018].groupby('month').agg({'diff':'mean'})\n",
    "year2019 = trump2.loc[trump['year']==2019].groupby('month').agg({'diff':'mean'})\n",
    "year2020 = trump2.loc[trump['year']==2020].groupby('month').agg({'diff':'mean'})"
   ]
  },
  {
   "cell_type": "code",
   "execution_count": 174,
   "metadata": {},
   "outputs": [
    {
     "data": {
      "text/plain": [
       "<Figure size 720x360 with 0 Axes>"
      ]
     },
     "execution_count": 174,
     "metadata": {},
     "output_type": "execute_result"
    },
    {
     "data": {
      "image/png": "[encoded data removed]",
      "text/plain": [
       "<Figure size 432x288 with 1 Axes>"
      ]
     },
     "metadata": {
      "needs_background": "light"
     },
     "output_type": "display_data"
    },
    {
     "data": {
      "text/plain": [
       "<Figure size 720x360 with 0 Axes>"
      ]
     },
     "metadata": {},
     "output_type": "display_data"
    }
   ],
   "source": [
    "plt.plot(year2017, color='grey',alpha=0.3)\n",
    "plt.plot(year2018, color='grey',alpha=0.3)\n",
    "plt.plot(year2019, color='grey',alpha=0.3)\n",
    "plt.plot(year2020, color='red')\n",
    "#Add Title\n",
    "plt.title('Ratings Diff: Disapproval(%) - Approval(%)', fontweight = 'bold',color='blue', pad = 10)\n",
    "\n",
    "#Add % to y label\n",
    "ytickpositions = []\n",
    "for i in range(0,25,5):\n",
    "    ytickpositions.append(i)\n",
    "\n",
    "yticklabels = []\n",
    "for i in range(0,25,5):\n",
    "    yticklabels.append(f'{i}'+'%')\n",
    "    \n",
    "plt.yticks(ytickpositions,yticklabels)\n",
    "\n",
    "plt.ylabel('Rating diff')\n",
    "\n",
    "#Redo x positions\n",
    "xtickpositions = []\n",
    "for i in range(1,13,1):\n",
    "    xtickpositions.append(i)\n",
    "\n",
    "xticklabels = [1,2,3,4,5,6,7,8,9,10,'Election\\n Month',12]\n",
    "    \n",
    "plt.xticks(xtickpositions,xticklabels)\n",
    "\n",
    "#Annotate\n",
    "plt.annotate('2017',(12.2,19),color = 'grey', fontsize = 10)\n",
    "plt.annotate('2018',(12.2,10),color = 'grey',fontsize = 10)\n",
    "plt.annotate('2019',(12.2,11.5),color = 'grey',fontsize = 10)\n",
    "plt.annotate('2020',(9,10),color = 'red',fontsize = 10)\n",
    "\n",
    "#Remove Spines\n",
    "plt.gca().spines['top'].set_visible(False)\n",
    "plt.gca().spines['right'].set_visible(False)\n",
    "\n",
    "#Create span area\n",
    "plt.axvspan(10.5,11.5,color = 'green',alpha = 0.3)\n",
    "\n",
    "plt.figure(figsize = (10,5))"
   ]
  },
  {
   "cell_type": "code",
   "execution_count": 148,
   "metadata": {},
   "outputs": [
    {
     "data": {
      "text/plain": [
       "[0, 1, 2, 3, 4, 5, 6, 7, 8, 9, 10, 11]"
      ]
     },
     "execution_count": 148,
     "metadata": {},
     "output_type": "execute_result"
    }
   ],
   "source": [
    "xtickpositions"
   ]
  },
  {
   "cell_type": "code",
   "execution_count": null,
   "metadata": {},
   "outputs": [],
   "source": []
  }
 ],
 "metadata": {
  "kernelspec": {
   "display_name": "Python 3",
   "language": "python",
   "name": "python3"
  },
  "language_info": {
   "codemirror_mode": {
    "name": "ipython",
    "version": 3
   },
   "file_extension": ".py",
   "mimetype": "text/x-python",
   "name": "python",
   "nbconvert_exporter": "python",
   "pygments_lexer": "ipython3",
   "version": "3.8.5"
  },
  "varInspector": {
   "cols": {
    "lenName": 16,
    "lenType": 16,
    "lenVar": 40
   },
   "kernels_config": {
    "python": {
     "delete_cmd_postfix": "",
     "delete_cmd_prefix": "del ",
     "library": "var_list.py",
     "varRefreshCmd": "print(var_dic_list())"
    },
    "r": {
     "delete_cmd_postfix": ") ",
     "delete_cmd_prefix": "rm(",
     "library": "var_list.r",
     "varRefreshCmd": "cat(var_dic_list()) "
    }
   },
   "types_to_exclude": [
    "module",
    "function",
    "builtin_function_or_method",
    "instance",
    "_Feature"
   ],
   "window_display": false
  }
 },
 "nbformat": 4,
 "nbformat_minor": 4
}
